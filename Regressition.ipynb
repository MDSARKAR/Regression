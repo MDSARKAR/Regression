{
 "cells": [
  {
   "cell_type": "markdown",
   "id": "f8a112ab-234a-4d3a-bb75-5dfe10bbeda1",
   "metadata": {
    "tags": []
   },
   "source": [
    "### Step 01\n",
    "\n",
    "Module Import"
   ]
  },
  {
   "cell_type": "code",
   "execution_count": 1,
   "id": "063859b7-6ec0-44eb-aaa1-2128e94555b3",
   "metadata": {},
   "outputs": [],
   "source": [
    "### Step 01\n",
    "### Module Import"
   ]
  },
  {
   "cell_type": "code",
   "execution_count": 51,
   "id": "70d97343-d930-464c-9099-3ca50cf024c2",
   "metadata": {},
   "outputs": [],
   "source": [
    "# for controlling/ Manipulating the csv file-\n",
    "import pandas as pd\n",
    "# For Neumetical analysis\n",
    "import numpy as np\n",
    "\n",
    "# for Visualization\n",
    "import matplotlib.pyplot as plt\n",
    "import matplotlib.patches as matPatches\n",
    "import seaborn as sns\n",
    "\n",
    "\n",
    "# For creating linear Regression model \n",
    "\n",
    "#ignore Warnings\n",
    "import warnings\n",
    "warnings.filterwarnings('ignore')\n"
   ]
  },
  {
   "cell_type": "markdown",
   "id": "c1fadc58-5eaf-43ff-b6ad-abba938fce60",
   "metadata": {},
   "source": [
    "## Step 02\n",
    "### Fininding the slope of the linear regression line"
   ]
  },
  {
   "cell_type": "code",
   "execution_count": 32,
   "id": "fd6eaa2c-a9be-44f8-8bdc-9ece2c40335c",
   "metadata": {},
   "outputs": [],
   "source": [
    "def slope(x,y):\n",
    "    numbers = len(x)\n",
    "    data_summation = np.sum(x*y)\n",
    "    data_summation_x = np.sum(x)\n",
    "    data_summation_y = np.sum(y)\n",
    "    \n",
    "    data_summation_x_2 = np.sum(x**2)\n",
    "    \n",
    "    slope = (numbers*data_summation -data_summation_x*data_summation_y) /(numbers*data_summation_x_2 - (data_summation_x**2))\n",
    "\n",
    "        \n",
    "    return slope\n",
    "                                                                         \n",
    "    \n",
    "                                                                         \n",
    "                                                                         \n",
    "                                                                         "
   ]
  },
  {
   "cell_type": "code",
   "execution_count": 4,
   "id": "c18c2111-332e-40fa-9742-d7abcce23f68",
   "metadata": {},
   "outputs": [],
   "source": [
    "## Step 03\n",
    "## Finding the Intercept of the linear regression line"
   ]
  },
  {
   "cell_type": "code",
   "execution_count": 6,
   "id": "2fe9893a-f6bc-4cef-9a5d-94c261dff160",
   "metadata": {},
   "outputs": [],
   "source": [
    "def intercept(x,y):\n",
    "    intercept = np.mean(y) - slope(x,y)* np.mean(x)\n",
    "    return intercept"
   ]
  },
  {
   "cell_type": "code",
   "execution_count": 6,
   "id": "8e520295-0f83-478b-ad53-1ccb586a1061",
   "metadata": {},
   "outputs": [],
   "source": [
    "## Step 04\n",
    "## Fining the predictions of the linear regression line"
   ]
  },
  {
   "cell_type": "code",
   "execution_count": 7,
   "id": "ad877879-155c-44ed-9820-0cb854045f2d",
   "metadata": {},
   "outputs": [],
   "source": [
    "def predictions(slope, x_data, intercept):\n",
    "    predictions = slope * x_data + intercept\n",
    "    return predictions"
   ]
  },
  {
   "cell_type": "code",
   "execution_count": 8,
   "id": "bd6799bc-527d-4699-817a-e9476dc29d6d",
   "metadata": {},
   "outputs": [],
   "source": [
    "## Step 05\n",
    "### Finding the R-Squared  the linear regression line"
   ]
  },
  {
   "cell_type": "code",
   "execution_count": 43,
   "id": "52bd568d-51b7-44fe-9d0d-645905f820b5",
   "metadata": {},
   "outputs": [],
   "source": [
    "def r_Squared(predicted_values, test_values):\n",
    "    #Dummy Variable\n",
    "    dummy_predicted = predicted_values\n",
    "    dummy_test = test_values\n",
    "    \n",
    "    #Summation of Squared Values\n",
    "    summation_square = np.sum((dummy_test -np.mean(dummy_test))**2)\n",
    "    resudial_square = np.sum((dummy_test - dummy_predicted)**2)\n",
    "    RSquared = 1 - (resudial_square/summation_square)\n",
    "    return RSquared"
   ]
  },
  {
   "cell_type": "code",
   "execution_count": 10,
   "id": "b4bdc983-3853-4033-8033-13709a18e89e",
   "metadata": {},
   "outputs": [],
   "source": [
    "## Step 05\n",
    "### Finding the Correlation Cofficient of the linear regression line"
   ]
  },
  {
   "cell_type": "code",
   "execution_count": 46,
   "id": "4b8c0c17-d6e5-4410-b999-651d1dde8f96",
   "metadata": {},
   "outputs": [],
   "source": [
    "def correlation_cofficient(predicted_values, test_values):\n",
    "    #Dummay variables- we can check orginal data and update data \n",
    "    # Two types of copy Shadow copy and Deep copy\n",
    "    # Deep copy variable can change the variable but shadow copy variable it will be not change the orginal values\n",
    "    X = predicted_values\n",
    "    Y = test_values\n",
    "    numbers = len(X)\n",
    "    \n",
    "                  \n",
    "    summation_of_two_variables = np.sum(X * Y)\n",
    "    summation_X = np.sum(X)\n",
    "    summation_Y = np.sum (Y)\n",
    "    \n",
    "    Squared_summation_X = np.sum(X**2)\n",
    "    Squared_summation_Y = np.sum(Y**2)\n",
    "    \n",
    "    correlation_cofficient_score = (numbers * summation_of_two_variables -summation_X* summation_Y) / np.sqt((numbers * Squared_summation_X -(summation_X)**2) * (numbers * Squared_summation_Y -(summation_Y)**2))\n",
    "    \n",
    "    return correlation_cofficient_score\n",
    "                                                                                                             "
   ]
  },
  {
   "cell_type": "code",
   "execution_count": 12,
   "id": "8380c8ea-6753-4a81-afc4-f43bf7078fda",
   "metadata": {
    "jupyter": {
     "source_hidden": true
    },
    "tags": []
   },
   "outputs": [],
   "source": [
    "# Variance is the difference from mean value created is the covariance\n",
    "\n",
    "def co_variance(x,y):\n",
    "    a = x\n",
    "    b = y\n",
    "    numbers = len(a)\n",
    "    total_summation = np.sum(a*b)\n",
    "    coVariance = total_summation / (numbers - np.mean(a) * np.mean(b))\n",
    "    return coVariance"
   ]
  },
  {
   "cell_type": "code",
   "execution_count": 13,
   "id": "b7b126b5-687e-4b19-9e85-bf0ae27cfa72",
   "metadata": {},
   "outputs": [],
   "source": [
    "## Step 07\n",
    "## Datasets Load from Directory"
   ]
  },
  {
   "cell_type": "code",
   "execution_count": 47,
   "id": "d21a83ba-8843-49f1-9d2f-8d305cb2c8aa",
   "metadata": {},
   "outputs": [],
   "source": [
    "datasets = pd.read_csv(\"Salary_Data.csv\")"
   ]
  },
  {
   "cell_type": "code",
   "execution_count": 48,
   "id": "6c0e9098-35cc-4cbe-bfb9-faafe113345c",
   "metadata": {},
   "outputs": [
    {
     "data": {
      "text/plain": [
       "Index(['YearsExperience', 'Salary'], dtype='object')"
      ]
     },
     "execution_count": 48,
     "metadata": {},
     "output_type": "execute_result"
    }
   ],
   "source": [
    "datasets.columns"
   ]
  },
  {
   "cell_type": "code",
   "execution_count": 49,
   "id": "567f4ce0-b89d-44f0-bb1d-ae00b0fe4d25",
   "metadata": {},
   "outputs": [
    {
     "data": {
      "text/plain": [
       "<bound method NDFrame.describe of     YearsExperience  Salary\n",
       "0               1.1   39343\n",
       "1               1.3   46205\n",
       "2               1.5   37731\n",
       "3               2.0   43525\n",
       "4               2.2   39891\n",
       "5               2.9   56642\n",
       "6               3.0   60150\n",
       "7               3.2   54445\n",
       "8               3.2   64445\n",
       "9               3.7   57189\n",
       "10              3.9   63218\n",
       "11              4.0   55794\n",
       "12              4.0   56957\n",
       "13              4.1   57081\n",
       "14              4.5   61111\n",
       "15              4.9   67938\n",
       "16              5.1   66029\n",
       "17              5.3   83088\n",
       "18              5.9   81363\n",
       "19              6.0   93940\n",
       "20              6.8   91738\n",
       "21              7.1   98273\n",
       "22              7.9  101302\n",
       "23              8.2  113812\n",
       "24              8.7  109431\n",
       "25              9.0  105582\n",
       "26              9.5  116969\n",
       "27              9.6  112635\n",
       "28             10.3  122391\n",
       "29             10.5  121872>"
      ]
     },
     "execution_count": 49,
     "metadata": {},
     "output_type": "execute_result"
    }
   ],
   "source": [
    "datasets.describe"
   ]
  },
  {
   "cell_type": "code",
   "execution_count": 17,
   "id": "d30b5f64-0d78-459c-a08f-aade69264cd9",
   "metadata": {},
   "outputs": [],
   "source": [
    "## Step 8\n",
    "###Datasets information Retriving"
   ]
  },
  {
   "cell_type": "code",
   "execution_count": 17,
   "id": "026b0ee7-d5b8-419f-9eb2-cd3a7a1e0b2c",
   "metadata": {},
   "outputs": [],
   "source": [
    "datasets_array = datasets.values"
   ]
  },
  {
   "cell_type": "code",
   "execution_count": 18,
   "id": "dbebfd6c-3396-4726-990d-41eb98a21c10",
   "metadata": {},
   "outputs": [
    {
     "name": "stdout",
     "output_type": "stream",
     "text": [
      "Array of Datasets:  [[1.10000e+00 3.93430e+04]\n",
      " [1.30000e+00 4.62050e+04]\n",
      " [1.50000e+00 3.77310e+04]\n",
      " [2.00000e+00 4.35250e+04]\n",
      " [2.20000e+00 3.98910e+04]\n",
      " [2.90000e+00 5.66420e+04]\n",
      " [3.00000e+00 6.01500e+04]\n",
      " [3.20000e+00 5.44450e+04]\n",
      " [3.20000e+00 6.44450e+04]\n",
      " [3.70000e+00 5.71890e+04]\n",
      " [3.90000e+00 6.32180e+04]\n",
      " [4.00000e+00 5.57940e+04]\n",
      " [4.00000e+00 5.69570e+04]\n",
      " [4.10000e+00 5.70810e+04]\n",
      " [4.50000e+00 6.11110e+04]\n",
      " [4.90000e+00 6.79380e+04]\n",
      " [5.10000e+00 6.60290e+04]\n",
      " [5.30000e+00 8.30880e+04]\n",
      " [5.90000e+00 8.13630e+04]\n",
      " [6.00000e+00 9.39400e+04]\n",
      " [6.80000e+00 9.17380e+04]\n",
      " [7.10000e+00 9.82730e+04]\n",
      " [7.90000e+00 1.01302e+05]\n",
      " [8.20000e+00 1.13812e+05]\n",
      " [8.70000e+00 1.09431e+05]\n",
      " [9.00000e+00 1.05582e+05]\n",
      " [9.50000e+00 1.16969e+05]\n",
      " [9.60000e+00 1.12635e+05]\n",
      " [1.03000e+01 1.22391e+05]\n",
      " [1.05000e+01 1.21872e+05]]\n"
     ]
    }
   ],
   "source": [
    "print(\"Array of Datasets: \", datasets_array)"
   ]
  },
  {
   "cell_type": "code",
   "execution_count": 24,
   "id": "4c3bd387-cc7d-4e76-a01f-5131fb32bfb1",
   "metadata": {},
   "outputs": [],
   "source": [
    "X = datasets_array[:, 0]\n",
    "Y = datasets_array[:, 1]"
   ]
  },
  {
   "cell_type": "code",
   "execution_count": 25,
   "id": "fde8dd7d-eb66-4784-b4bf-4b3ca166ccd4",
   "metadata": {},
   "outputs": [
    {
     "name": "stdout",
     "output_type": "stream",
     "text": [
      "Shape of the Independent Datasets : (30,)\n",
      "Shape of the Independent Datasets : (30,)\n"
     ]
    }
   ],
   "source": [
    "print(\"Shape of the Independent Datasets :\", X.shape)\n",
    "print(\"Shape of the Independent Datasets :\", Y.shape)"
   ]
  },
  {
   "cell_type": "markdown",
   "id": "f4dfabfe-6b27-4512-a35e-5b64c84abc6c",
   "metadata": {},
   "source": [
    "## Step 9\n",
    "### Daistribution of the Datasets"
   ]
  },
  {
   "cell_type": "code",
   "execution_count": 26,
   "id": "298b236c-c35a-47b1-8f51-2436fcc6b333",
   "metadata": {},
   "outputs": [],
   "source": [
    "left = 0.1\n",
    "width = 0.8"
   ]
  },
  {
   "cell_type": "code",
   "execution_count": 27,
   "id": "1c08076f-ea57-449c-b6ee-a0bfa19a2e41",
   "metadata": {},
   "outputs": [
    {
     "data": {
      "image/png": "[encoded data removed]",
      "text/plain": [
       "<Figure size 432x288 with 1 Axes>"
      ]
     },
     "metadata": {
      "needs_background": "light"
     },
     "output_type": "display_data"
    }
   ],
   "source": [
    "ax1 = plt.axes([left, 0.5, width, 0.45])\n",
    "ax1.boxplot(X)\n",
    "ax1.set_title(\"Box plot of X  datasets / Feature\")\n",
    "\n",
    "plt.show()"
   ]
  },
  {
   "cell_type": "code",
   "execution_count": 28,
   "id": "1ce1b88b-300d-4ccb-94d3-529c5ce350c8",
   "metadata": {},
   "outputs": [
    {
     "data": {
      "image/png": "[encoded data removed]",
      "text/plain": [
       "<Figure size 432x288 with 1 Axes>"
      ]
     },
     "metadata": {
      "needs_background": "light"
     },
     "output_type": "display_data"
    }
   ],
   "source": [
    "ax2 = plt.axes([left, 0.5, width, 0.45])\n",
    "ax2.boxplot(Y, ',-')\n",
    "ax2.set_title(\" Box plot of Y datasets / Feature\")\n",
    "plt.show()"
   ]
  },
  {
   "cell_type": "code",
   "execution_count": 25,
   "id": "7376fdbd-bcd8-4504-a308-4361109cefa0",
   "metadata": {
    "jupyter": {
     "source_hidden": true
    },
    "tags": []
   },
   "outputs": [
    {
     "name": "stdout",
     "output_type": "stream",
     "text": [
      "Co-Variance of the Datasets : -35.46802073657356\n"
     ]
    }
   ],
   "source": [
    "print(\"Co-Variance of the Datasets :\", co_variance(X,Y))"
   ]
  },
  {
   "cell_type": "markdown",
   "id": "64f05fea-6316-4122-adc4-578a693b816a",
   "metadata": {},
   "source": [
    "## 10\n",
    "### Datasets spliting into Train and testing datasets"
   ]
  },
  {
   "cell_type": "code",
   "execution_count": 29,
   "id": "a09b226e-84b4-4e4a-81a8-f53e88243413",
   "metadata": {},
   "outputs": [],
   "source": [
    "datasets_test_size = 0.2\n",
    "seed = 10"
   ]
  },
  {
   "cell_type": "code",
   "execution_count": 30,
   "id": "4d430deb-66d0-4bbd-825e-c44ab80252ec",
   "metadata": {
    "tags": []
   },
   "outputs": [],
   "source": [
    "X_train_data, X_test_data, Y_train_data, Y_test_data = train_test_split(X,Y,\n",
    "                                                                         test_size = datasets_test_size,random_state = seed)"
   ]
  },
  {
   "cell_type": "code",
   "execution_count": 33,
   "id": "dabdc30b-1045-49ab-9175-404241053ed7",
   "metadata": {},
   "outputs": [],
   "source": [
    "# Find out the intercept values\n",
    "intercepts = intercept(X_train_data, Y_train_data)\n",
    "slops = slope(X_train_data, Y_train_data)"
   ]
  },
  {
   "cell_type": "code",
   "execution_count": 34,
   "id": "d8c85672-e19c-4c91-ab11-4e1a42ce4f78",
   "metadata": {},
   "outputs": [
    {
     "name": "stdout",
     "output_type": "stream",
     "text": [
      "Intercept is : 26089.096632416746\n",
      "\n",
      "Slope Data is : 9356.862993539355\n"
     ]
    }
   ],
   "source": [
    "print(\"Intercept is :\", intercepts)\n",
    "print(\"\\nSlope Data is :\", slops)"
   ]
  },
  {
   "cell_type": "code",
   "execution_count": 35,
   "id": "ca2a415b-d273-46b6-876e-28d4cf779ea8",
   "metadata": {},
   "outputs": [],
   "source": [
    "predictions_data = predictions(slope=slops,\n",
    "                               x_data= X_test_data,\n",
    "                               intercept=intercepts)"
   ]
  },
  {
   "cell_type": "code",
   "execution_count": 36,
   "id": "be7bcd21-65e6-488b-8acd-d715a624de01",
   "metadata": {},
   "outputs": [
    {
     "name": "stdout",
     "output_type": "stream",
     "text": [
      "Prediction Results is : [89715.76498848 56031.05821174 53223.99931368 40124.39112273\n",
      " 44802.8226195  92522.82388655]\n"
     ]
    }
   ],
   "source": [
    "print(\"Prediction Results is :\", predictions_data)"
   ]
  },
  {
   "cell_type": "code",
   "execution_count": 37,
   "id": "e2131cb1-9203-4e74-9d0a-f533b0b0bd7a",
   "metadata": {},
   "outputs": [
    {
     "name": "stdout",
     "output_type": "stream",
     "text": [
      "R Squared Data is : 0.9816423482070253\n"
     ]
    }
   ],
   "source": [
    "print(\"R Squared Data is :\", r_Squared(predicted_values=predictions_data,\n",
    "                                       test_values= Y_test_data))"
   ]
  },
  {
   "cell_type": "code",
   "execution_count": null,
   "id": "f225fd73-5ddf-4b54-b2ab-be36b2fe6110",
   "metadata": {},
   "outputs": [],
   "source": [
    "print(\"Correlation Cofficient : \", correlation_cofficient(predictions_data, Y_test_data))"
   ]
  },
  {
   "cell_type": "code",
   "execution_count": 53,
   "id": "a5963cf5-7fe8-4d14-ab28-9e40cc72e97b",
   "metadata": {},
   "outputs": [],
   "source": [
    "Y_data = slops * X + intercepts"
   ]
  },
  {
   "cell_type": "code",
   "execution_count": 58,
   "id": "a720b2c1-757d-43bc-b6ce-6653b0569de4",
   "metadata": {},
   "outputs": [
    {
     "data": {
      "image/png": "[encoded data removed]",
      "text/plain": [
       "<Figure size 432x288 with 1 Axes>"
      ]
     },
     "metadata": {
      "needs_background": "light"
     },
     "output_type": "display_data"
    }
   ],
   "source": [
    "plt.scatter(X, Y, marker = '^', color = 'k', alpha=0.55)\n",
    "plt.plot(X, Y_data, color = 'r', linewidth = 2)\n",
    "redPatch = matPatches.Patch(color='red', label = 'Regression Line')\n",
    "plt.legend(loc = 0, handles = [redPatch])\n",
    "plt.title(\"Linear Regression Analysis\")\n",
    "plt.tight_layout(pad=2)\n",
    "plt.grid(False)\n",
    "plt.show()"
   ]
  },
  {
   "cell_type": "code",
   "execution_count": 59,
   "id": "9befe52e-d62d-4a01-bf3a-089b2c1f6f70",
   "metadata": {},
   "outputs": [
    {
     "data": {
      "image/png": "[encoded data removed]",
      "text/plain": [
       "<Figure size 432x288 with 1 Axes>"
      ]
     },
     "metadata": {},
     "output_type": "display_data"
    }
   ],
   "source": [
    "sns.set(style = \"whitegrid\")\n",
    "random_state = np.random.RandomState(7)\n",
    "sns.residplot(X, Y, lowess=True, color = 'r')\n",
    "plt.title(\"Residual plot\")\n",
    "plt.show()"
   ]
  },
  {
   "cell_type": "code",
   "execution_count": null,
   "id": "ce5e7dfa-2b1a-4d50-9aed-5cdfc3629f47",
   "metadata": {},
   "outputs": [],
   "source": []
  }
 ],
 "metadata": {
  "kernelspec": {
   "display_name": "Python 3 (ipykernel)",
   "language": "python",
   "name": "python3"
  },
  "language_info": {
   "codemirror_mode": {
    "name": "ipython",
    "version": 3
   },
   "file_extension": ".py",
   "mimetype": "text/x-python",
   "name": "python",
   "nbconvert_exporter": "python",
   "pygments_lexer": "ipython3",
   "version": "3.9.7"
  }
 },
 "nbformat": 4,
 "nbformat_minor": 5
}
